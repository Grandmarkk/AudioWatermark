{
 "cells": [
  {
   "cell_type": "code",
   "execution_count": 3,
   "metadata": {},
   "outputs": [],
   "source": [
    "import torch\n",
    "import numpy as np\n",
    "import pandas as pd\n",
    "import cv2\n",
    "import os"
   ]
  },
  {
   "cell_type": "code",
   "execution_count": 22,
   "metadata": {},
   "outputs": [],
   "source": [
    "def convert_greyscale(image_path):\n",
    "    '''\n",
    "    Convert an image to 128 * 128 pixel greyscale image, overwrite the origianl\n",
    "\n",
    "    Args:\n",
    "        image_path: the location of the image\n",
    "    '''\n",
    "\n",
    "    # load image\n",
    "    image = cv2.imread(image_path)\n",
    "\n",
    "    # resize\n",
    "    resized_image = cv2.resize(image, (128, 128))\n",
    "\n",
    "    # convert to greyscale\n",
    "    greyscale_image = cv2.cvtColor(resized_image, cv2.COLOR_BGR2GRAY)\n",
    "\n",
    "    # save\n",
    "    cv2.imwrite(image_path, greyscale_image)\n",
    "\n",
    "def get_images(data_path):\n",
    "    '''\n",
    "    Get all the images path under the data_path\n",
    "\n",
    "    Args: \n",
    "        data_path: the directory where the images are located\n",
    "    Return: a list of path of images\n",
    "    '''\n",
    "    images_path = [os.path.join(data_path, f) for f in os.listdir(data_path) if f.endswith('.jpg') and os.path.isfile(os.path.join(data_path, f))]\n",
    "    return images_path\n",
    "\n",
    "def get_directories(path):\n",
    "    '''\n",
    "    Get all the directories under path\n",
    "\n",
    "    Args:\n",
    "        path: directory path\n",
    "    Return : a list of directories\n",
    "    '''\n",
    "    directories = [os.path.join(path, d) for d in os.listdir(path) if os.path.isdir(os.path.join(path, d))]\n",
    "    return directories\n",
    "\n",
    "def process_image_set(root_path):\n",
    "    '''\n",
    "    Process all the images in the dataset hierachy\n",
    "\n",
    "    Args:\n",
    "        root_path: the path of the dataset\n",
    "    '''\n",
    "    dirs = [root_path]\n",
    "    while dirs:\n",
    "        cur_path = dirs.pop(0)\n",
    "        image_paths = get_images(cur_path)\n",
    "        if image_paths == []:\n",
    "            dirs += get_directories(cur_path)\n",
    "        else:\n",
    "            for path in image_paths:\n",
    "                convert_greyscale(path)\n"
   ]
  },
  {
   "cell_type": "code",
   "execution_count": 28,
   "metadata": {},
   "outputs": [],
   "source": [
    "dataset_path = \"D:/Monash/Monash2024Sem1/FIT3161/logo_dataset/datasetcopy/trainandtest\"\n",
    "process_image_set(dataset_path)"
   ]
  },
  {
   "cell_type": "code",
   "execution_count": null,
   "metadata": {},
   "outputs": [],
   "source": []
  }
 ],
 "metadata": {
  "kernelspec": {
   "display_name": "Python 3",
   "language": "python",
   "name": "python3"
  },
  "language_info": {
   "codemirror_mode": {
    "name": "ipython",
    "version": 3
   },
   "file_extension": ".py",
   "mimetype": "text/x-python",
   "name": "python",
   "nbconvert_exporter": "python",
   "pygments_lexer": "ipython3",
   "version": "3.11.1"
  }
 },
 "nbformat": 4,
 "nbformat_minor": 2
}
