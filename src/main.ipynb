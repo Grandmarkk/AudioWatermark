{
 "cells": [
  {
   "cell_type": "code",
   "execution_count": 1,
   "metadata": {},
   "outputs": [],
   "source": [
    "import torch\n",
    "import numpy as np\n",
    "import pandas as pd\n",
    "import cv2"
   ]
  },
  {
   "cell_type": "code",
   "execution_count": 4,
   "metadata": {},
   "outputs": [],
   "source": [
    "def convert_greyscale(image_path):\n",
    "    '''\n",
    "    Convert an image to 128 * 128 pixel greyscale image, overwrite the origianl\n",
    "    '''\n",
    "\n",
    "    # load image\n",
    "    image = cv2.imread(image_path)\n",
    "\n",
    "    # resize\n",
    "    resized_image = cv2.resize(image, (128, 128))\n",
    "\n",
    "    # convert to greyscale\n",
    "    greyscale_image = cv2.cvtColor(resized_image, cv2.COLOR_BGR2GRAY)\n",
    "\n",
    "    # save\n",
    "    cv2.imwrite(image_path, greyscale_image)"
   ]
  }
 ],
 "metadata": {
  "kernelspec": {
   "display_name": "Python 3",
   "language": "python",
   "name": "python3"
  },
  "language_info": {
   "codemirror_mode": {
    "name": "ipython",
    "version": 3
   },
   "file_extension": ".py",
   "mimetype": "text/x-python",
   "name": "python",
   "nbconvert_exporter": "python",
   "pygments_lexer": "ipython3",
   "version": "3.11.1"
  }
 },
 "nbformat": 4,
 "nbformat_minor": 2
}
